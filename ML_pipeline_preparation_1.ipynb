{
 "cells": [
  {
   "cell_type": "markdown",
   "metadata": {},
   "source": [
    "# ML Pipeline Preparation\n",
    "Here I create a machine learning pipeline.\n",
    "### 1. Import libraries and load data from database.\n",
    "The steps I will folow will be: \n",
    "- Import the necessary Python libraries\n",
    "- Load dataset from database with [`read_sql_table`](https://pandas.pydata.org/pandas-docs/stable/generated/pandas.read_sql_table.html)\n",
    "- Define feature and target variables X and Y"
   ]
  },
  {
   "cell_type": "code",
   "execution_count": 1,
   "metadata": {},
   "outputs": [
    {
     "name": "stderr",
     "output_type": "stream",
     "text": [
      "[nltk_data] Downloading package words to\n",
      "[nltk_data]     /Users/michaelreinhardme.com/nltk_data...\n",
      "[nltk_data]   Package words is already up-to-date!\n",
      "[nltk_data] Downloading package punkt to\n",
      "[nltk_data]     /Users/michaelreinhardme.com/nltk_data...\n",
      "[nltk_data]   Package punkt is already up-to-date!\n",
      "[nltk_data] Downloading package averaged_perceptron_tagger to\n",
      "[nltk_data]     /Users/michaelreinhardme.com/nltk_data...\n",
      "[nltk_data]   Package averaged_perceptron_tagger is already up-to-\n",
      "[nltk_data]       date!\n",
      "[nltk_data] Downloading package maxent_ne_chunker to\n",
      "[nltk_data]     /Users/michaelreinhardme.com/nltk_data...\n",
      "[nltk_data]   Package maxent_ne_chunker is already up-to-date!\n",
      "[nltk_data] Downloading package stopwords to\n",
      "[nltk_data]     /Users/michaelreinhardme.com/nltk_data...\n",
      "[nltk_data]   Package stopwords is already up-to-date!\n",
      "[nltk_data] Downloading package wordnet to\n",
      "[nltk_data]     /Users/michaelreinhardme.com/nltk_data...\n",
      "[nltk_data]   Package wordnet is already up-to-date!\n"
     ]
    }
   ],
   "source": [
    "# import libraries\n",
    "import numpy as np\n",
    "import pandas as pd\n",
    "import re\n",
    "import sqlalchemy \n",
    "\n",
    "import nltk\n",
    "from nltk.corpus import stopwords\n",
    "from nltk.stem.wordnet import WordNetLemmatizer \n",
    "from nltk.stem import *\n",
    "from nltk.tokenize import word_tokenize, sent_tokenize\n",
    "\n",
    "nltk.download('words')\n",
    "nltk.download('punkt')\n",
    "nltk.download('averaged_perceptron_tagger')\n",
    "nltk.download('maxent_ne_chunker')\n",
    "nltk.download('stopwords')\n",
    "nltk.download('wordnet')\n",
    "\n",
    "import sklearn\n",
    "from sklearn.feature_extraction.text import CountVectorizer\n",
    "from sklearn.feature_extraction.text import TfidfTransformer\n",
    "from sklearn.feature_extraction.text import TfidfVectorizer\n",
    "from sklearn.pipeline import Pipeline, FeatureUnion\n",
    "from sklearn.multioutput import MultiOutputClassifier\n",
    "from sklearn.naive_bayes import MultinomialNB\n",
    "from sklearn.ensemble import RandomForestClassifier\n",
    "from sklearn.model_selection import train_test_split\n",
    "from sklearn.metrics import accuracy_score, confusion_matrix, classification_report, multilabel_confusion_matrix, make_scorer, f1_score\n",
    "from sklearn.base import BaseEstimator, TransformerMixin\n",
    "from sklearn.model_selection import GridSearchCV\n",
    "import pickle"
   ]
  },
  {
   "cell_type": "code",
   "execution_count": 2,
   "metadata": {},
   "outputs": [
    {
     "name": "stdout",
     "output_type": "stream",
     "text": [
      "The nltk version is 3.4.4.\n",
      "The sklearn version is 0.21.2\n"
     ]
    }
   ],
   "source": [
    "print(f'The nltk version is {nltk.__version__}.')\n",
    "# print('The scikit-learn version is {}.'.format(sklearn.__version__))\n",
    "print(f'The sklearn version is {sklearn.__version__}')\n",
    "# print(f'The version of pickle is {pickle.__version__}')"
   ]
  },
  {
   "cell_type": "code",
   "execution_count": 3,
   "metadata": {},
   "outputs": [],
   "source": [
    "#I load the data from the database\n",
    "#sqlite:///\n",
    "engine = sqlalchemy.create_engine('sqlite:///data/DisasterResponse.db')\n",
    "\n",
    "#read it into a Pandas DataFrame\n",
    "df = pd.read_sql_table('disaster', engine) "
   ]
  },
  {
   "cell_type": "code",
   "execution_count": 4,
   "metadata": {},
   "outputs": [
    {
     "data": {
      "text/html": [
       "<div>\n",
       "<style scoped>\n",
       "    .dataframe tbody tr th:only-of-type {\n",
       "        vertical-align: middle;\n",
       "    }\n",
       "\n",
       "    .dataframe tbody tr th {\n",
       "        vertical-align: top;\n",
       "    }\n",
       "\n",
       "    .dataframe thead th {\n",
       "        text-align: right;\n",
       "    }\n",
       "</style>\n",
       "<table border=\"1\" class=\"dataframe\">\n",
       "  <thead>\n",
       "    <tr style=\"text-align: right;\">\n",
       "      <th></th>\n",
       "      <th>id</th>\n",
       "      <th>message</th>\n",
       "      <th>original</th>\n",
       "      <th>genre</th>\n",
       "      <th>related</th>\n",
       "      <th>request</th>\n",
       "      <th>offer</th>\n",
       "      <th>aid_related</th>\n",
       "      <th>medical_help</th>\n",
       "      <th>medical_products</th>\n",
       "      <th>...</th>\n",
       "      <th>aid_centers</th>\n",
       "      <th>other_infrastructure</th>\n",
       "      <th>weather_related</th>\n",
       "      <th>floods</th>\n",
       "      <th>storm</th>\n",
       "      <th>fire</th>\n",
       "      <th>earthquake</th>\n",
       "      <th>cold</th>\n",
       "      <th>other_weather</th>\n",
       "      <th>direct_report</th>\n",
       "    </tr>\n",
       "  </thead>\n",
       "  <tbody>\n",
       "    <tr>\n",
       "      <th>26172</th>\n",
       "      <td>30261</td>\n",
       "      <td>The training demonstrated how to enhance micro...</td>\n",
       "      <td>None</td>\n",
       "      <td>news</td>\n",
       "      <td>0</td>\n",
       "      <td>0</td>\n",
       "      <td>0</td>\n",
       "      <td>0</td>\n",
       "      <td>0</td>\n",
       "      <td>0</td>\n",
       "      <td>...</td>\n",
       "      <td>0</td>\n",
       "      <td>0</td>\n",
       "      <td>0</td>\n",
       "      <td>0</td>\n",
       "      <td>0</td>\n",
       "      <td>0</td>\n",
       "      <td>0</td>\n",
       "      <td>0</td>\n",
       "      <td>0</td>\n",
       "      <td>0</td>\n",
       "    </tr>\n",
       "    <tr>\n",
       "      <th>26173</th>\n",
       "      <td>30262</td>\n",
       "      <td>A suitable candidate has been selected and OCH...</td>\n",
       "      <td>None</td>\n",
       "      <td>news</td>\n",
       "      <td>0</td>\n",
       "      <td>0</td>\n",
       "      <td>0</td>\n",
       "      <td>0</td>\n",
       "      <td>0</td>\n",
       "      <td>0</td>\n",
       "      <td>...</td>\n",
       "      <td>0</td>\n",
       "      <td>0</td>\n",
       "      <td>0</td>\n",
       "      <td>0</td>\n",
       "      <td>0</td>\n",
       "      <td>0</td>\n",
       "      <td>0</td>\n",
       "      <td>0</td>\n",
       "      <td>0</td>\n",
       "      <td>0</td>\n",
       "    </tr>\n",
       "    <tr>\n",
       "      <th>26174</th>\n",
       "      <td>30263</td>\n",
       "      <td>Proshika, operating in Cox's Bazar municipalit...</td>\n",
       "      <td>None</td>\n",
       "      <td>news</td>\n",
       "      <td>1</td>\n",
       "      <td>0</td>\n",
       "      <td>0</td>\n",
       "      <td>0</td>\n",
       "      <td>0</td>\n",
       "      <td>0</td>\n",
       "      <td>...</td>\n",
       "      <td>0</td>\n",
       "      <td>0</td>\n",
       "      <td>0</td>\n",
       "      <td>0</td>\n",
       "      <td>0</td>\n",
       "      <td>0</td>\n",
       "      <td>0</td>\n",
       "      <td>0</td>\n",
       "      <td>0</td>\n",
       "      <td>0</td>\n",
       "    </tr>\n",
       "    <tr>\n",
       "      <th>26175</th>\n",
       "      <td>30264</td>\n",
       "      <td>Some 2,000 women protesting against the conduc...</td>\n",
       "      <td>None</td>\n",
       "      <td>news</td>\n",
       "      <td>1</td>\n",
       "      <td>0</td>\n",
       "      <td>0</td>\n",
       "      <td>1</td>\n",
       "      <td>0</td>\n",
       "      <td>0</td>\n",
       "      <td>...</td>\n",
       "      <td>0</td>\n",
       "      <td>0</td>\n",
       "      <td>0</td>\n",
       "      <td>0</td>\n",
       "      <td>0</td>\n",
       "      <td>0</td>\n",
       "      <td>0</td>\n",
       "      <td>0</td>\n",
       "      <td>0</td>\n",
       "      <td>0</td>\n",
       "    </tr>\n",
       "    <tr>\n",
       "      <th>26176</th>\n",
       "      <td>30265</td>\n",
       "      <td>A radical shift in thinking came about as a re...</td>\n",
       "      <td>None</td>\n",
       "      <td>news</td>\n",
       "      <td>1</td>\n",
       "      <td>0</td>\n",
       "      <td>0</td>\n",
       "      <td>0</td>\n",
       "      <td>0</td>\n",
       "      <td>0</td>\n",
       "      <td>...</td>\n",
       "      <td>0</td>\n",
       "      <td>0</td>\n",
       "      <td>0</td>\n",
       "      <td>0</td>\n",
       "      <td>0</td>\n",
       "      <td>0</td>\n",
       "      <td>0</td>\n",
       "      <td>0</td>\n",
       "      <td>0</td>\n",
       "      <td>0</td>\n",
       "    </tr>\n",
       "  </tbody>\n",
       "</table>\n",
       "<p>5 rows × 40 columns</p>\n",
       "</div>"
      ],
      "text/plain": [
       "          id                                            message original  \\\n",
       "26172  30261  The training demonstrated how to enhance micro...     None   \n",
       "26173  30262  A suitable candidate has been selected and OCH...     None   \n",
       "26174  30263  Proshika, operating in Cox's Bazar municipalit...     None   \n",
       "26175  30264  Some 2,000 women protesting against the conduc...     None   \n",
       "26176  30265  A radical shift in thinking came about as a re...     None   \n",
       "\n",
       "      genre  related  request  offer  aid_related  medical_help  \\\n",
       "26172  news        0        0      0            0             0   \n",
       "26173  news        0        0      0            0             0   \n",
       "26174  news        1        0      0            0             0   \n",
       "26175  news        1        0      0            1             0   \n",
       "26176  news        1        0      0            0             0   \n",
       "\n",
       "       medical_products  ...  aid_centers  other_infrastructure  \\\n",
       "26172                 0  ...            0                     0   \n",
       "26173                 0  ...            0                     0   \n",
       "26174                 0  ...            0                     0   \n",
       "26175                 0  ...            0                     0   \n",
       "26176                 0  ...            0                     0   \n",
       "\n",
       "       weather_related  floods  storm  fire  earthquake  cold  other_weather  \\\n",
       "26172                0       0      0     0           0     0              0   \n",
       "26173                0       0      0     0           0     0              0   \n",
       "26174                0       0      0     0           0     0              0   \n",
       "26175                0       0      0     0           0     0              0   \n",
       "26176                0       0      0     0           0     0              0   \n",
       "\n",
       "       direct_report  \n",
       "26172              0  \n",
       "26173              0  \n",
       "26174              0  \n",
       "26175              0  \n",
       "26176              0  \n",
       "\n",
       "[5 rows x 40 columns]"
      ]
     },
     "execution_count": 4,
     "metadata": {},
     "output_type": "execute_result"
    }
   ],
   "source": [
    "#inspect\n",
    "df.tail()"
   ]
  },
  {
   "cell_type": "code",
   "execution_count": 5,
   "metadata": {},
   "outputs": [
    {
     "data": {
      "text/plain": [
       "(26177, 40)"
      ]
     },
     "execution_count": 5,
     "metadata": {},
     "output_type": "execute_result"
    }
   ],
   "source": [
    "df.shape"
   ]
  },
  {
   "cell_type": "markdown",
   "metadata": {},
   "source": [
    "So there are 26,177 observations and 40 variables, just like in the last notebook. Which is good. \n",
    "\n",
    "Starting with the fifth (zero based indexing) column, 'request', till the 40th, the variables represent a one-hot encoding of message classifications. There are qualitative variables, 'genre' and 'related', that are we are going to leave out of our analysis for the time being. The 'original' messages is just that, the original message, often in a foreign language. \n",
    "\n",
    "Now we get the value counts of the qualitative variables:"
   ]
  },
  {
   "cell_type": "code",
   "execution_count": 6,
   "metadata": {},
   "outputs": [
    {
     "name": "stdout",
     "output_type": "stream",
     "text": [
      "the value counts for \"genre\" are:\n",
      "news      13036\n",
      "direct    10747\n",
      "social     2394\n",
      "Name: genre, dtype: int64\n",
      "\n",
      "the value counts for \"related\" are:\n",
      "1    19873\n",
      "0     6117\n",
      "2      187\n",
      "Name: related, dtype: int64\n",
      "\n"
     ]
    }
   ],
   "source": [
    "for i in ['genre','related']:\n",
    "    print(f'the value counts for \"{i}\" are:\\n{df[i].value_counts()}\\n')"
   ]
  },
  {
   "cell_type": "markdown",
   "metadata": {},
   "source": [
    "#### Split the data into independent and dependent variables\n",
    "For the independent variable we are going to use the message itself. For the dependent variable we are going to use the 35 categorizations of the messages. Thus the usual situation where there are numerous independent variable and one dependent variable is, for the time being, reversed. We will subsequently, in the process of turning the text content of 'message' into analyzable data, greatly increase the dimensionality of the independent variable."
   ]
  },
  {
   "cell_type": "code",
   "execution_count": 7,
   "metadata": {},
   "outputs": [],
   "source": [
    "X = df.loc[:,'message']\n",
    "y = df.iloc[:,5:]"
   ]
  },
  {
   "cell_type": "code",
   "execution_count": 8,
   "metadata": {},
   "outputs": [
    {
     "data": {
      "text/plain": [
       "(26177,)"
      ]
     },
     "execution_count": 8,
     "metadata": {},
     "output_type": "execute_result"
    }
   ],
   "source": [
    "X.shape"
   ]
  },
  {
   "cell_type": "code",
   "execution_count": 9,
   "metadata": {},
   "outputs": [
    {
     "data": {
      "text/plain": [
       "(26177, 35)"
      ]
     },
     "execution_count": 9,
     "metadata": {},
     "output_type": "execute_result"
    }
   ],
   "source": [
    "y.shape"
   ]
  },
  {
   "cell_type": "code",
   "execution_count": 10,
   "metadata": {},
   "outputs": [
    {
     "data": {
      "text/plain": [
       "pandas.core.series.Series"
      ]
     },
     "execution_count": 10,
     "metadata": {},
     "output_type": "execute_result"
    }
   ],
   "source": [
    "type(X)"
   ]
  },
  {
   "cell_type": "code",
   "execution_count": 11,
   "metadata": {},
   "outputs": [
    {
     "data": {
      "text/plain": [
       "array(['request', 'offer', 'aid_related', 'medical_help',\n",
       "       'medical_products', 'search_and_rescue', 'security', 'military',\n",
       "       'child_alone', 'water', 'food', 'shelter', 'clothing', 'money',\n",
       "       'missing_people', 'refugees', 'death', 'other_aid',\n",
       "       'infrastructure_related', 'transport', 'buildings', 'electricity',\n",
       "       'tools', 'hospitals', 'shops', 'aid_centers',\n",
       "       'other_infrastructure', 'weather_related', 'floods', 'storm',\n",
       "       'fire', 'earthquake', 'cold', 'other_weather', 'direct_report'],\n",
       "      dtype=object)"
      ]
     },
     "execution_count": 11,
     "metadata": {},
     "output_type": "execute_result"
    }
   ],
   "source": [
    "y.columns.values"
   ]
  },
  {
   "cell_type": "markdown",
   "metadata": {},
   "source": [
    "### 2. Write a tokenization function to process your text data"
   ]
  },
  {
   "cell_type": "code",
   "execution_count": 12,
   "metadata": {},
   "outputs": [],
   "source": [
    "stop_words = stopwords.words(\"english\")\n",
    "lemmatizer = WordNetLemmatizer()\n",
    "pstemmer = nltk.PorterStemmer()"
   ]
  },
  {
   "cell_type": "code",
   "execution_count": 13,
   "metadata": {},
   "outputs": [],
   "source": [
    "import re\n",
    "url_regex = 'http[s]?://(?:[a-zA-Z][0-9]|[$-_@.&+]|[!*\\(\\),]|[?:%[0-9a-fA-F][0-9a-fA-F])'\n"
   ]
  },
  {
   "cell_type": "code",
   "execution_count": 80,
   "metadata": {},
   "outputs": [],
   "source": [
    "def tokenize(text, lemmatize='l'):\n",
    "    #remove urs and replace with placeholder\n",
    "    detected_urls = re.findall(url_regex, text)\n",
    "    for url in detected_urls:\n",
    "        text = text.replace(url, 'url_placeholder')\n",
    "    \n",
    "    #normalize case and remove punctuation\n",
    "    text = re.sub(r\"[^a-zA-Z0-9]\", \" \", text.lower())\n",
    "    \n",
    "    #tokenize text\n",
    "    tokens = word_tokenize(text)\n",
    "    \n",
    "    if lemmatize=='l':\n",
    "        #lemmatize andremove stop words\n",
    "        tokens = [lemmatizer.lemmatize(word) for word in tokens if word not in stop_words]\n",
    "    \n",
    "    if lemmatize=='p':\n",
    "        #stem the works\n",
    "        tokens = [pstemmer.stem(word) for word in tokens]\n",
    "    \n",
    "    if lemmatize=='lp':\n",
    "        tokens = [lemmatizer.lemmatize(word) for word in tokens if word not in stop_words]\n",
    "        tokens = [pstemmer.stem(word) for word in tokens]\n",
    "\n",
    "    if lemmatize=='pl':\n",
    "        tokens = [pstemmer.stem(word) for word in tokens]\n",
    "        tokens = [lemmatizer.lemmatize(word) for word in tokens if word not in stop_words]\n",
    "        \n",
    "\n",
    "    return tokens"
   ]
  },
  {
   "cell_type": "code",
   "execution_count": null,
   "metadata": {},
   "outputs": [],
   "source": []
  },
  {
   "cell_type": "code",
   "execution_count": 161,
   "metadata": {},
   "outputs": [],
   "source": [
    "X_tokenized = X.apply(lambda x: tokenize(x))"
   ]
  },
  {
   "cell_type": "code",
   "execution_count": 162,
   "metadata": {},
   "outputs": [
    {
     "name": "stdout",
     "output_type": "stream",
     "text": [
      "0    [weather, updat, cold, front, cuba, could, pas...\n",
      "1                                           [hurrican]\n",
      "2                                 [look, someon, name]\n",
      "3    [un, report, leogan, 80, 90, destroy, onli, ho...\n",
      "4    [say, west, side, haiti, rest, countri, today,...\n",
      "Name: message, dtype: object\n",
      "<class 'pandas.core.series.Series'>\n",
      "RangeIndex(start=0, stop=26177, step=1)\n",
      "[list(['weather', 'updat', 'cold', 'front', 'cuba', 'could', 'pas', 'haiti'])\n",
      " list(['hurrican'])]\n",
      "(26177,)\n"
     ]
    }
   ],
   "source": [
    "print(X_tokenized.head())\n",
    "print(type(X_tokenized))\n",
    "print(X_tokenized.index)\n",
    "print(X_tokenized.values[:2])\n",
    "print(X_tokenized.shape)"
   ]
  },
  {
   "cell_type": "markdown",
   "metadata": {},
   "source": [
    "We won't use `X_tokenized` in the analysis but create it to better understand what is going on. So we see that `X_tokenized` is a list pandas Series of lists, each list containing the words in a tweet. Since the list is still just counted as one object the size of the data set has not increased. We can see the effects of lemmatization and stemming in words like 'hurrican' and 'updat'. This will reduce the number of words that the algorithm has to deal will. Lowering the dimensionality of the data set will reduce the noise that that goes into the model. "
   ]
  },
  {
   "cell_type": "markdown",
   "metadata": {},
   "source": [
    "### 3. Build a machine learning pipeline\n",
    "This machine pipeline should take in the `message` column as input and output classification results on the other 36 categories in the dataset. You may find the [MultiOutputClassifier](http://scikit-learn.org/stable/modules/generated/sklearn.multioutput.MultiOutputClassifier.html) helpful for predicting multiple target variables."
   ]
  },
  {
   "cell_type": "code",
   "execution_count": 17,
   "metadata": {},
   "outputs": [],
   "source": [
    "class StartingVerbExtractor(BaseEstimator, TransformerMixin):\n",
    "\n",
    "    def starting_verb(self, text):\n",
    "        sentence_list = nltk.sent_tokenize(text)\n",
    "        for sentence in sentence_list[0]:\n",
    "            pos_tags = nltk.pos_tag(tokenize(sentence))\n",
    "            first_word, first_tag = pos_tags[0]\n",
    "            if first_tag in ['VB', 'VBP'] or first_word == 'RT':\n",
    "                return True\n",
    "            \n",
    "            \n",
    "        return False\n",
    "\n",
    "    def fit(self, x, y=None):\n",
    "        return self\n",
    "\n",
    "    def transform(self, X):\n",
    "        X_tagged = pd.Series(X).apply(self.starting_verb)\n",
    "        return pd.DataFrame(X_tagged)"
   ]
  },
  {
   "cell_type": "code",
   "execution_count": 178,
   "metadata": {},
   "outputs": [],
   "source": [
    "# pipeline = Pipeline([\n",
    "#     ('vect', CountVectorizer(tokenizer=tokenize)),\n",
    "#     ('tfidf', TfidfTransformer()),\n",
    "#     ('clf', MultiOutputClassifier(RandomForestClassifier()))\n",
    "# ])\n",
    "\n",
    "# 'clf__estimator__max_features': 'log2',\n",
    "#  'clf__estimator__min_samples_split': 2,\n",
    "#  'clf__estimator__n_estimators': 250,\n",
    "#  'vect__ngram_range': (1, 2)}\n",
    "\n",
    "pipeline = Pipeline([\n",
    "    ('vect', CountVectorizer(tokenizer=tokenize, ngram_range=(1,2))),\n",
    "    ('tfidf', TfidfTransformer()),\n",
    "    ('clf', MultiOutputClassifier(RandomForestClassifier(random_state=100, n_estimators=250, min_samples_split=2,\\\n",
    "                                                        max_features='log2')))\n",
    "])"
   ]
  },
  {
   "cell_type": "markdown",
   "metadata": {},
   "source": [
    "Abortive attempt at constucting a loop to test the different settings for tokenize."
   ]
  },
  {
   "cell_type": "code",
   "execution_count": 38,
   "metadata": {},
   "outputs": [],
   "source": [
    "# options = ['l','p','lp','pl','']\n",
    "\n",
    "# for i in options:\n",
    "#     tokenize = tokenize(X_train, lemmatize=i)\n",
    "#     pipeline.fit(X_train, y_train)\n",
    "#     y_pred = pipeline.predict(X_test)\n",
    "#     print(accuracy_score(y_test, y_pred))\n",
    "#     print(f'the accurracy score for tokenise {i} = {accuracy_score(y_test, y_pred)}')"
   ]
  },
  {
   "cell_type": "markdown",
   "metadata": {},
   "source": [
    "I have not been able to get the `FeatureUnion` feature to work so I am leaving it out for now, though I would like to include it in future versions. The `StartingVerbExtractor` doesn't seem all that vital but I could be wrong. Also, I would like to include the quantitative variables 'genre' and 'related' in the analysis, though I don't think that will require `FeatureUnion`. "
   ]
  },
  {
   "cell_type": "code",
   "execution_count": 165,
   "metadata": {},
   "outputs": [],
   "source": [
    "# pipeline1 = Pipeline([\n",
    "#     ('features', FeatureUnion([\n",
    "\n",
    "#         ('text_pipeline', Pipeline([\n",
    "#             ('vect', CountVectorizer(tokenizer=tokenize)),\n",
    "#             ('tfidf', TfidfTransformer())\n",
    "#         ])),\n",
    "\n",
    "#         ('starting_verb', StartingVerbExtractor())\n",
    "#     ])),\n",
    "\n",
    "#     ('clf', MultiOutputClassifier(RandomForestClassifier()))\n",
    "    \n",
    "#     ])"
   ]
  },
  {
   "cell_type": "markdown",
   "metadata": {},
   "source": [
    "### 4. Train pipeline\n",
    "- Split data into train and test sets\n",
    "- Train pipeline"
   ]
  },
  {
   "cell_type": "code",
   "execution_count": 58,
   "metadata": {},
   "outputs": [],
   "source": [
    "X_train, X_test, y_train, y_test = train_test_split(X, y, random_state=42)"
   ]
  },
  {
   "cell_type": "markdown",
   "metadata": {},
   "source": [
    "### 5. Test your model\n",
    "Report the f1 score, precision and recall for each output category of the dataset. You can do this by iterating through the columns and calling sklearn's `classification_report` on each."
   ]
  },
  {
   "cell_type": "code",
   "execution_count": 179,
   "metadata": {},
   "outputs": [
    {
     "data": {
      "text/plain": [
       "Pipeline(memory=None,\n",
       "         steps=[('vect',\n",
       "                 CountVectorizer(analyzer='word', binary=False,\n",
       "                                 decode_error='strict',\n",
       "                                 dtype=<class 'numpy.int64'>, encoding='utf-8',\n",
       "                                 input='content', lowercase=True, max_df=1.0,\n",
       "                                 max_features=None, min_df=1,\n",
       "                                 ngram_range=(1, 2), preprocessor=None,\n",
       "                                 stop_words=None, strip_accents=None,\n",
       "                                 token_pattern='(?u)\\\\b\\\\w\\\\w+\\\\b',\n",
       "                                 tokenizer=<function tokenize at...\n",
       "                 MultiOutputClassifier(estimator=RandomForestClassifier(bootstrap=True,\n",
       "                                                                        class_weight=None,\n",
       "                                                                        criterion='gini',\n",
       "                                                                        max_depth=None,\n",
       "                                                                        max_features='log2',\n",
       "                                                                        max_leaf_nodes=None,\n",
       "                                                                        min_impurity_decrease=0.0,\n",
       "                                                                        min_impurity_split=None,\n",
       "                                                                        min_samples_leaf=1,\n",
       "                                                                        min_samples_split=2,\n",
       "                                                                        min_weight_fraction_leaf=0.0,\n",
       "                                                                        n_estimators=250,\n",
       "                                                                        n_jobs=None,\n",
       "                                                                        oob_score=False,\n",
       "                                                                        random_state=100,\n",
       "                                                                        verbose=0,\n",
       "                                                                        warm_start=False),\n",
       "                                       n_jobs=None))],\n",
       "         verbose=False)"
      ]
     },
     "execution_count": 179,
     "metadata": {},
     "output_type": "execute_result"
    }
   ],
   "source": [
    "pipeline.fit(X_train, y_train)"
   ]
  },
  {
   "cell_type": "code",
   "execution_count": 182,
   "metadata": {},
   "outputs": [],
   "source": [
    "y_pred = pipeline.predict(X_test)"
   ]
  },
  {
   "cell_type": "code",
   "execution_count": 183,
   "metadata": {},
   "outputs": [
    {
     "data": {
      "text/plain": [
       "0.4343773873185638"
      ]
     },
     "execution_count": 183,
     "metadata": {},
     "output_type": "execute_result"
    }
   ],
   "source": [
    "accuracy_score(y_test, y_pred)"
   ]
  },
  {
   "cell_type": "markdown",
   "metadata": {},
   "source": [
    "So for just lemmatizing the text I got 0.384 accuracy. For just stemming I got 0.378. For stemming and then lemmatizing I got 0.383. And for lemmatising and then stemming I got 0.384 again. For reference, skipping both lemmatizing and stemming got 0.385, so on this evidence it is best to not use either. "
   ]
  },
  {
   "cell_type": "markdown",
   "metadata": {},
   "source": [
    "So this dry run of running random forest without any parameter tuning does just 38% accuracy. That is not very good, though there were 35 categories into which a message could be categorized. "
   ]
  },
  {
   "cell_type": "code",
   "execution_count": 184,
   "metadata": {},
   "outputs": [
    {
     "data": {
      "text/plain": [
       "35"
      ]
     },
     "execution_count": 184,
     "metadata": {},
     "output_type": "execute_result"
    }
   ],
   "source": [
    "len(y_test.columns)"
   ]
  },
  {
   "cell_type": "code",
   "execution_count": 185,
   "metadata": {},
   "outputs": [
    {
     "name": "stdout",
     "output_type": "stream",
     "text": [
      "                        precision    recall  f1-score   support\n",
      "\n",
      "               request       0.88      0.35      0.50      1130\n",
      "                 offer       0.00      0.00      0.00        32\n",
      "           aid_related       0.86      0.39      0.54      2734\n",
      "          medical_help       0.40      0.00      0.01       535\n",
      "      medical_products       0.75      0.01      0.02       318\n",
      "     search_and_rescue       0.00      0.00      0.00       180\n",
      "              security       0.00      0.00      0.00       117\n",
      "              military       0.00      0.00      0.00       205\n",
      "           child_alone       0.00      0.00      0.00         0\n",
      "                 water       1.00      0.09      0.16       430\n",
      "                  food       0.90      0.20      0.33       715\n",
      "               shelter       0.96      0.04      0.08       598\n",
      "              clothing       0.33      0.01      0.02        87\n",
      "                 money       0.80      0.03      0.05       141\n",
      "        missing_people       0.00      0.00      0.00        65\n",
      "              refugees       0.00      0.00      0.00       246\n",
      "                 death       1.00      0.02      0.04       314\n",
      "             other_aid       0.60      0.01      0.02       858\n",
      "infrastructure_related       0.00      0.00      0.00       465\n",
      "             transport       0.00      0.00      0.00       285\n",
      "             buildings       1.00      0.01      0.01       355\n",
      "           electricity       0.00      0.00      0.00       125\n",
      "                 tools       0.00      0.00      0.00        35\n",
      "             hospitals       0.00      0.00      0.00        77\n",
      "                 shops       0.00      0.00      0.00        46\n",
      "           aid_centers       0.00      0.00      0.00        84\n",
      "  other_infrastructure       0.00      0.00      0.00       306\n",
      "       weather_related       0.90      0.29      0.44      1770\n",
      "                floods       0.75      0.01      0.02       495\n",
      "                 storm       0.82      0.03      0.06       605\n",
      "                  fire       0.00      0.00      0.00        68\n",
      "            earthquake       0.87      0.30      0.45       589\n",
      "                  cold       1.00      0.01      0.01       133\n",
      "         other_weather       0.67      0.01      0.01       320\n",
      "         direct_report       0.88      0.25      0.39      1260\n",
      "\n",
      "             micro avg       0.87      0.17      0.29     15723\n",
      "             macro avg       0.44      0.06      0.09     15723\n",
      "          weighted avg       0.71      0.17      0.26     15723\n",
      "           samples avg       0.23      0.10      0.13     15723\n",
      "\n"
     ]
    },
    {
     "name": "stderr",
     "output_type": "stream",
     "text": [
      "//anaconda3/lib/python3.7/site-packages/sklearn/metrics/classification.py:1437: UndefinedMetricWarning: Precision and F-score are ill-defined and being set to 0.0 in labels with no predicted samples.\n",
      "  'precision', 'predicted', average, warn_for)\n",
      "//anaconda3/lib/python3.7/site-packages/sklearn/metrics/classification.py:1439: UndefinedMetricWarning: Recall and F-score are ill-defined and being set to 0.0 in labels with no true samples.\n",
      "  'recall', 'true', average, warn_for)\n",
      "//anaconda3/lib/python3.7/site-packages/sklearn/metrics/classification.py:1437: UndefinedMetricWarning: Precision and F-score are ill-defined and being set to 0.0 in samples with no predicted labels.\n",
      "  'precision', 'predicted', average, warn_for)\n",
      "//anaconda3/lib/python3.7/site-packages/sklearn/metrics/classification.py:1439: UndefinedMetricWarning: Recall and F-score are ill-defined and being set to 0.0 in samples with no true labels.\n",
      "  'recall', 'true', average, warn_for)\n"
     ]
    }
   ],
   "source": [
    "print(classification_report(y_test, y_pred, target_names=y_test.columns))"
   ]
  },
  {
   "cell_type": "code",
   "execution_count": 186,
   "metadata": {},
   "outputs": [
    {
     "data": {
      "text/plain": [
       "array([[[5363,   52],\n",
       "        [ 731,  399]],\n",
       "\n",
       "       [[6513,    0],\n",
       "        [  32,    0]],\n",
       "\n",
       "       [[3637,  174],\n",
       "        [1667, 1067]],\n",
       "\n",
       "       [[6007,    3],\n",
       "        [ 533,    2]],\n",
       "\n",
       "       [[6226,    1],\n",
       "        [ 315,    3]],\n",
       "\n",
       "       [[6363,    2],\n",
       "        [ 180,    0]],\n",
       "\n",
       "       [[6428,    0],\n",
       "        [ 117,    0]],\n",
       "\n",
       "       [[6339,    1],\n",
       "        [ 205,    0]],\n",
       "\n",
       "       [[6545,    0],\n",
       "        [   0,    0]],\n",
       "\n",
       "       [[6115,    0],\n",
       "        [ 392,   38]],\n",
       "\n",
       "       [[5814,   16],\n",
       "        [ 573,  142]],\n",
       "\n",
       "       [[5946,    1],\n",
       "        [ 572,   26]],\n",
       "\n",
       "       [[6456,    2],\n",
       "        [  86,    1]],\n",
       "\n",
       "       [[6403,    1],\n",
       "        [ 137,    4]],\n",
       "\n",
       "       [[6480,    0],\n",
       "        [  65,    0]],\n",
       "\n",
       "       [[6299,    0],\n",
       "        [ 246,    0]],\n",
       "\n",
       "       [[6231,    0],\n",
       "        [ 307,    7]],\n",
       "\n",
       "       [[5681,    6],\n",
       "        [ 849,    9]],\n",
       "\n",
       "       [[6080,    0],\n",
       "        [ 465,    0]],\n",
       "\n",
       "       [[6260,    0],\n",
       "        [ 285,    0]],\n",
       "\n",
       "       [[6190,    0],\n",
       "        [ 353,    2]],\n",
       "\n",
       "       [[6420,    0],\n",
       "        [ 125,    0]],\n",
       "\n",
       "       [[6510,    0],\n",
       "        [  35,    0]],\n",
       "\n",
       "       [[6468,    0],\n",
       "        [  77,    0]],\n",
       "\n",
       "       [[6499,    0],\n",
       "        [  46,    0]],\n",
       "\n",
       "       [[6461,    0],\n",
       "        [  84,    0]],\n",
       "\n",
       "       [[6239,    0],\n",
       "        [ 306,    0]],\n",
       "\n",
       "       [[4717,   58],\n",
       "        [1255,  515]],\n",
       "\n",
       "       [[6048,    2],\n",
       "        [ 489,    6]],\n",
       "\n",
       "       [[5936,    4],\n",
       "        [ 587,   18]],\n",
       "\n",
       "       [[6477,    0],\n",
       "        [  68,    0]],\n",
       "\n",
       "       [[5930,   26],\n",
       "        [ 410,  179]],\n",
       "\n",
       "       [[6412,    0],\n",
       "        [ 132,    1]],\n",
       "\n",
       "       [[6224,    1],\n",
       "        [ 318,    2]],\n",
       "\n",
       "       [[5243,   42],\n",
       "        [ 940,  320]]])"
      ]
     },
     "execution_count": 186,
     "metadata": {},
     "output_type": "execute_result"
    }
   ],
   "source": [
    "multilabel_confusion_matrix(y_test, y_pred)"
   ]
  },
  {
   "cell_type": "code",
   "execution_count": 189,
   "metadata": {},
   "outputs": [
    {
     "name": "stdout",
     "output_type": "stream",
     "text": [
      "                        precision    recall  f1-score   support\n",
      "\n",
      "               request       0.35      0.88      0.50       451\n",
      "                 offer       0.00      0.00      0.00         0\n",
      "           aid_related       0.39      0.86      0.54      1241\n",
      "          medical_help       0.00      0.40      0.01         5\n",
      "      medical_products       0.01      0.75      0.02         4\n",
      "     search_and_rescue       0.00      0.00      0.00         2\n",
      "              security       0.00      0.00      0.00         0\n",
      "              military       0.00      0.00      0.00         1\n",
      "           child_alone       0.00      0.00      0.00         0\n",
      "                 water       0.09      1.00      0.16        38\n",
      "                  food       0.20      0.90      0.33       158\n",
      "               shelter       0.04      0.96      0.08        27\n",
      "              clothing       0.01      0.33      0.02         3\n",
      "                 money       0.03      0.80      0.05         5\n",
      "        missing_people       0.00      0.00      0.00         0\n",
      "              refugees       0.00      0.00      0.00         0\n",
      "                 death       0.02      1.00      0.04         7\n",
      "             other_aid       0.01      0.60      0.02        15\n",
      "infrastructure_related       0.00      0.00      0.00         0\n",
      "             transport       0.00      0.00      0.00         0\n",
      "             buildings       0.01      1.00      0.01         2\n",
      "           electricity       0.00      0.00      0.00         0\n",
      "                 tools       0.00      0.00      0.00         0\n",
      "             hospitals       0.00      0.00      0.00         0\n",
      "                 shops       0.00      0.00      0.00         0\n",
      "           aid_centers       0.00      0.00      0.00         0\n",
      "  other_infrastructure       0.00      0.00      0.00         0\n",
      "       weather_related       0.29      0.90      0.44       573\n",
      "                floods       0.01      0.75      0.02         8\n",
      "                 storm       0.03      0.82      0.06        22\n",
      "                  fire       0.00      0.00      0.00         0\n",
      "            earthquake       0.30      0.87      0.45       205\n",
      "                  cold       0.01      1.00      0.01         1\n",
      "         other_weather       0.01      0.67      0.01         3\n",
      "         direct_report       0.25      0.88      0.39       362\n",
      "\n",
      "             micro avg       0.17      0.87      0.29      3133\n",
      "             macro avg       0.06      0.44      0.09      3133\n",
      "          weighted avg       0.32      0.87      0.46      3133\n",
      "           samples avg       0.10      0.23      0.13      3133\n",
      "\n",
      "Accuracy Score: 0.9416173742224162\n"
     ]
    }
   ],
   "source": [
    "evaluate_model(pipeline, X_test, y_test, category_names)"
   ]
  },
  {
   "cell_type": "markdown",
   "metadata": {},
   "source": [
    "### 6. Improve your model\n",
    "Use grid search to find better parameters. "
   ]
  },
  {
   "cell_type": "code",
   "execution_count": 171,
   "metadata": {},
   "outputs": [
    {
     "data": {
      "text/plain": [
       "dict_keys(['memory', 'steps', 'verbose', 'vect', 'tfidf', 'clf', 'vect__analyzer', 'vect__binary', 'vect__decode_error', 'vect__dtype', 'vect__encoding', 'vect__input', 'vect__lowercase', 'vect__max_df', 'vect__max_features', 'vect__min_df', 'vect__ngram_range', 'vect__preprocessor', 'vect__stop_words', 'vect__strip_accents', 'vect__token_pattern', 'vect__tokenizer', 'vect__vocabulary', 'tfidf__norm', 'tfidf__smooth_idf', 'tfidf__sublinear_tf', 'tfidf__use_idf', 'clf__estimator__bootstrap', 'clf__estimator__class_weight', 'clf__estimator__criterion', 'clf__estimator__max_depth', 'clf__estimator__max_features', 'clf__estimator__max_leaf_nodes', 'clf__estimator__min_impurity_decrease', 'clf__estimator__min_impurity_split', 'clf__estimator__min_samples_leaf', 'clf__estimator__min_samples_split', 'clf__estimator__min_weight_fraction_leaf', 'clf__estimator__n_estimators', 'clf__estimator__n_jobs', 'clf__estimator__oob_score', 'clf__estimator__random_state', 'clf__estimator__verbose', 'clf__estimator__warm_start', 'clf__estimator', 'clf__n_jobs'])"
      ]
     },
     "execution_count": 171,
     "metadata": {},
     "output_type": "execute_result"
    }
   ],
   "source": [
    "pipeline.get_params().keys()"
   ]
  },
  {
   "cell_type": "markdown",
   "metadata": {},
   "source": [
    "### 7. Test your model\n",
    "Show the accuracy, precision, and recall of the tuned model.  \n",
    "\n",
    "Since this project focuses on code quality, process, and  pipelines, there is no minimum performance metric needed to pass. However, make sure to fine tune your models for accuracy, precision and recall to make your project stand out - especially for your portfolio!"
   ]
  },
  {
   "cell_type": "markdown",
   "metadata": {},
   "source": [
    "### 8. Try improving your model further. Here are a few ideas:\n",
    "* try other machine learning algorithms\n",
    "* add other features besides the TF-IDF"
   ]
  },
  {
   "cell_type": "code",
   "execution_count": 166,
   "metadata": {},
   "outputs": [],
   "source": [
    "def tokenize(text, lemma=True, remove_stop=True, remove_short=True):\n",
    "    '''\n",
    "    input: (\n",
    "        text: \n",
    "        lemma: True if lemmatize word, \n",
    "        remove_stop: True if remove stopwords  \n",
    "        remove_short: True if remove short words > 2\n",
    "            )\n",
    "    Function tokenizes the text \n",
    "    output: (\n",
    "        returns cleaned tokens in list \n",
    "            )\n",
    "    '''\n",
    "    # stopword list \n",
    "    STOPWORDS = list(set(stopwords.words('english')))\n",
    "    # initialize lemmatier\n",
    "    lemmatizer = WordNetLemmatizer()\n",
    "    # split string into words (tokens)\n",
    "    tokens = word_tokenize(text)\n",
    "    # remove short words\n",
    "    if remove_short: tokens = [token for token in tokens if len(token) > 2]\n",
    "    # put words into base form\n",
    "    if lemma: tokens = [lemmatizer.lemmatize(token).lower().strip() for token in tokens]\n",
    "    # remove stopwords\n",
    "    if remove_stop: tokens = [token for token in tokens if token not in STOPWORDS]\n",
    "    # return data \n",
    "    return tokens\n"
   ]
  },
  {
   "cell_type": "code",
   "execution_count": null,
   "metadata": {},
   "outputs": [],
   "source": []
  },
  {
   "cell_type": "code",
   "execution_count": 167,
   "metadata": {},
   "outputs": [],
   "source": [
    "# pipeline = Pipeline([\n",
    "#     ('vect', CountVectorizer(tokenizer=tokenize)),\n",
    "#     ('tfidf', TfidfTransformer()),\n",
    "#     ('clf', MultiOutputClassifier(RandomForestClassifier()))\n",
    "# ])\n",
    "\n",
    "pipeline = Pipeline([\n",
    "    ('vect', CountVectorizer(tokenizer=tokenize)),\n",
    "    ('tfidf', TfidfTransformer()),\n",
    "    ('clf', MultiOutputClassifier(RandomForestClassifier(random_state=100)))\n",
    "])"
   ]
  },
  {
   "cell_type": "code",
   "execution_count": 155,
   "metadata": {},
   "outputs": [
    {
     "data": {
      "text/plain": [
       "dict_keys(['memory', 'steps', 'verbose', 'vect', 'tfidf', 'clf', 'vect__analyzer', 'vect__binary', 'vect__decode_error', 'vect__dtype', 'vect__encoding', 'vect__input', 'vect__lowercase', 'vect__max_df', 'vect__max_features', 'vect__min_df', 'vect__ngram_range', 'vect__preprocessor', 'vect__stop_words', 'vect__strip_accents', 'vect__token_pattern', 'vect__tokenizer', 'vect__vocabulary', 'tfidf__norm', 'tfidf__smooth_idf', 'tfidf__sublinear_tf', 'tfidf__use_idf', 'clf__estimator__bootstrap', 'clf__estimator__class_weight', 'clf__estimator__criterion', 'clf__estimator__max_depth', 'clf__estimator__max_features', 'clf__estimator__max_leaf_nodes', 'clf__estimator__min_impurity_decrease', 'clf__estimator__min_impurity_split', 'clf__estimator__min_samples_leaf', 'clf__estimator__min_samples_split', 'clf__estimator__min_weight_fraction_leaf', 'clf__estimator__n_estimators', 'clf__estimator__n_jobs', 'clf__estimator__oob_score', 'clf__estimator__random_state', 'clf__estimator__verbose', 'clf__estimator__warm_start', 'clf__estimator', 'clf__n_jobs'])"
      ]
     },
     "execution_count": 155,
     "metadata": {},
     "output_type": "execute_result"
    }
   ],
   "source": [
    "pipeline.get_params().keys()"
   ]
  },
  {
   "cell_type": "code",
   "execution_count": 156,
   "metadata": {},
   "outputs": [],
   "source": [
    "my_scorer = make_scorer(f1_score, greater_is_better=True, average='micro')"
   ]
  },
  {
   "cell_type": "code",
   "execution_count": 157,
   "metadata": {},
   "outputs": [],
   "source": [
    "# parameters = {\n",
    "#         'tfidf__smooth_idf': [True, False],\n",
    "#         'clf__estimator__n_estimators': [20, 25],\n",
    "#         'clf__estimator__max_depth' : [1, 2, 3]\n",
    "#     }\n",
    "param_grid = {\n",
    "        'vect__ngram_range': ((1, 1), (1, 2)),\n",
    "        'clf__estimator__min_samples_split': [2, 4],\n",
    "        'clf__estimator__max_features': ['log2', 'auto'],\n",
    "        'clf__estimator__n_estimators': [100, 250],\n",
    "    }"
   ]
  },
  {
   "cell_type": "code",
   "execution_count": 158,
   "metadata": {},
   "outputs": [],
   "source": [
    "cv = GridSearchCV(pipeline, param_grid=param_grid, verbose=2, n_jobs=4, cv=3)"
   ]
  },
  {
   "cell_type": "markdown",
   "metadata": {},
   "source": [
    "Now fit the model"
   ]
  },
  {
   "cell_type": "code",
   "execution_count": 159,
   "metadata": {},
   "outputs": [
    {
     "name": "stdout",
     "output_type": "stream",
     "text": [
      "Fitting 3 folds for each of 16 candidates, totalling 48 fits\n"
     ]
    },
    {
     "name": "stderr",
     "output_type": "stream",
     "text": [
      "[Parallel(n_jobs=4)]: Using backend LokyBackend with 4 concurrent workers.\n",
      "[Parallel(n_jobs=4)]: Done  33 tasks      | elapsed: 306.4min\n",
      "[Parallel(n_jobs=4)]: Done  48 out of  48 | elapsed: 436.9min finished\n"
     ]
    },
    {
     "data": {
      "text/plain": [
       "GridSearchCV(cv=3, error_score='raise-deprecating',\n",
       "             estimator=Pipeline(memory=None,\n",
       "                                steps=[('vect',\n",
       "                                        CountVectorizer(analyzer='word',\n",
       "                                                        binary=False,\n",
       "                                                        decode_error='strict',\n",
       "                                                        dtype=<class 'numpy.int64'>,\n",
       "                                                        encoding='utf-8',\n",
       "                                                        input='content',\n",
       "                                                        lowercase=True,\n",
       "                                                        max_df=1.0,\n",
       "                                                        max_features=None,\n",
       "                                                        min_df=1,\n",
       "                                                        ngram_range=(1, 1),\n",
       "                                                        preprocessor=None,\n",
       "                                                        stop_words=None,\n",
       "                                                        strip_accents=None,\n",
       "                                                        tok...\n",
       "                                                                                               random_state=100,\n",
       "                                                                                               verbose=0,\n",
       "                                                                                               warm_start=False),\n",
       "                                                              n_jobs=None))],\n",
       "                                verbose=False),\n",
       "             iid='warn', n_jobs=4,\n",
       "             param_grid={'clf__estimator__max_features': ['log2', 'auto'],\n",
       "                         'clf__estimator__min_samples_split': [2, 4],\n",
       "                         'clf__estimator__n_estimators': [100, 250],\n",
       "                         'vect__ngram_range': ((1, 1), (1, 2))},\n",
       "             pre_dispatch='2*n_jobs', refit=True, return_train_score=False,\n",
       "             scoring=None, verbose=2)"
      ]
     },
     "execution_count": 159,
     "metadata": {},
     "output_type": "execute_result"
    }
   ],
   "source": [
    "cv.fit(X_train, y_train)"
   ]
  },
  {
   "cell_type": "code",
   "execution_count": 160,
   "metadata": {},
   "outputs": [
    {
     "data": {
      "text/plain": [
       "{'clf__estimator__max_features': 'log2',\n",
       " 'clf__estimator__min_samples_split': 2,\n",
       " 'clf__estimator__n_estimators': 250,\n",
       " 'vect__ngram_range': (1, 2)}"
      ]
     },
     "execution_count": 160,
     "metadata": {},
     "output_type": "execute_result"
    }
   ],
   "source": [
    "y_pred = cv.predict(X_test)\n",
    "cv.best_params_"
   ]
  },
  {
   "cell_type": "code",
   "execution_count": 161,
   "metadata": {},
   "outputs": [
    {
     "name": "stdout",
     "output_type": "stream",
     "text": [
      "0.4343773873185638\n",
      "                        precision    recall  f1-score   support\n",
      "\n",
      "               request       0.88      0.35      0.50      1130\n",
      "                 offer       0.00      0.00      0.00        32\n",
      "           aid_related       0.86      0.39      0.54      2734\n",
      "          medical_help       0.40      0.00      0.01       535\n",
      "      medical_products       0.75      0.01      0.02       318\n",
      "     search_and_rescue       0.00      0.00      0.00       180\n",
      "              security       0.00      0.00      0.00       117\n",
      "              military       0.00      0.00      0.00       205\n",
      "           child_alone       0.00      0.00      0.00         0\n",
      "                 water       1.00      0.09      0.16       430\n",
      "                  food       0.90      0.20      0.33       715\n",
      "               shelter       0.96      0.04      0.08       598\n",
      "              clothing       0.33      0.01      0.02        87\n",
      "                 money       0.80      0.03      0.05       141\n",
      "        missing_people       0.00      0.00      0.00        65\n",
      "              refugees       0.00      0.00      0.00       246\n",
      "                 death       1.00      0.02      0.04       314\n",
      "             other_aid       0.60      0.01      0.02       858\n",
      "infrastructure_related       0.00      0.00      0.00       465\n",
      "             transport       0.00      0.00      0.00       285\n",
      "             buildings       1.00      0.01      0.01       355\n",
      "           electricity       0.00      0.00      0.00       125\n",
      "                 tools       0.00      0.00      0.00        35\n",
      "             hospitals       0.00      0.00      0.00        77\n",
      "                 shops       0.00      0.00      0.00        46\n",
      "           aid_centers       0.00      0.00      0.00        84\n",
      "  other_infrastructure       0.00      0.00      0.00       306\n",
      "       weather_related       0.90      0.29      0.44      1770\n",
      "                floods       0.75      0.01      0.02       495\n",
      "                 storm       0.82      0.03      0.06       605\n",
      "                  fire       0.00      0.00      0.00        68\n",
      "            earthquake       0.87      0.30      0.45       589\n",
      "                  cold       1.00      0.01      0.01       133\n",
      "         other_weather       0.67      0.01      0.01       320\n",
      "         direct_report       0.88      0.25      0.39      1260\n",
      "\n",
      "             micro avg       0.87      0.17      0.29     15723\n",
      "             macro avg       0.44      0.06      0.09     15723\n",
      "          weighted avg       0.71      0.17      0.26     15723\n",
      "           samples avg       0.23      0.10      0.13     15723\n",
      "\n",
      "None\n"
     ]
    },
    {
     "name": "stderr",
     "output_type": "stream",
     "text": [
      "//anaconda3/lib/python3.7/site-packages/sklearn/metrics/classification.py:1437: UndefinedMetricWarning: Precision and F-score are ill-defined and being set to 0.0 in labels with no predicted samples.\n",
      "  'precision', 'predicted', average, warn_for)\n",
      "//anaconda3/lib/python3.7/site-packages/sklearn/metrics/classification.py:1439: UndefinedMetricWarning: Recall and F-score are ill-defined and being set to 0.0 in labels with no true samples.\n",
      "  'recall', 'true', average, warn_for)\n",
      "//anaconda3/lib/python3.7/site-packages/sklearn/metrics/classification.py:1437: UndefinedMetricWarning: Precision and F-score are ill-defined and being set to 0.0 in samples with no predicted labels.\n",
      "  'precision', 'predicted', average, warn_for)\n",
      "//anaconda3/lib/python3.7/site-packages/sklearn/metrics/classification.py:1439: UndefinedMetricWarning: Recall and F-score are ill-defined and being set to 0.0 in samples with no true labels.\n",
      "  'recall', 'true', average, warn_for)\n"
     ]
    }
   ],
   "source": [
    "print(accuracy_score(y_test, y_pred))\n",
    "print(print(classification_report(y_test, y_pred, target_names=y_test.columns)))"
   ]
  },
  {
   "cell_type": "code",
   "execution_count": 162,
   "metadata": {},
   "outputs": [
    {
     "name": "stdout",
     "output_type": "stream",
     "text": [
      "request\n",
      "[[5363   52]\n",
      " [ 731  399]]\n",
      "offer\n",
      "[[6513    0]\n",
      " [  32    0]]\n",
      "aid_related\n",
      "[[3637  174]\n",
      " [1667 1067]]\n",
      "medical_help\n",
      "[[6007    3]\n",
      " [ 533    2]]\n",
      "medical_products\n",
      "[[6226    1]\n",
      " [ 315    3]]\n",
      "search_and_rescue\n",
      "[[6363    2]\n",
      " [ 180    0]]\n",
      "security\n",
      "[[6428    0]\n",
      " [ 117    0]]\n",
      "military\n",
      "[[6339    1]\n",
      " [ 205    0]]\n",
      "child_alone\n",
      "[[6545]]\n",
      "water\n",
      "[[6115    0]\n",
      " [ 392   38]]\n",
      "food\n",
      "[[5814   16]\n",
      " [ 573  142]]\n",
      "shelter\n",
      "[[5946    1]\n",
      " [ 572   26]]\n",
      "clothing\n",
      "[[6456    2]\n",
      " [  86    1]]\n",
      "money\n",
      "[[6403    1]\n",
      " [ 137    4]]\n",
      "missing_people\n",
      "[[6480    0]\n",
      " [  65    0]]\n",
      "refugees\n",
      "[[6299    0]\n",
      " [ 246    0]]\n",
      "death\n",
      "[[6231    0]\n",
      " [ 307    7]]\n",
      "other_aid\n",
      "[[5681    6]\n",
      " [ 849    9]]\n",
      "infrastructure_related\n",
      "[[6080    0]\n",
      " [ 465    0]]\n",
      "transport\n",
      "[[6260    0]\n",
      " [ 285    0]]\n",
      "buildings\n",
      "[[6190    0]\n",
      " [ 353    2]]\n",
      "electricity\n",
      "[[6420    0]\n",
      " [ 125    0]]\n",
      "tools\n",
      "[[6510    0]\n",
      " [  35    0]]\n",
      "hospitals\n",
      "[[6468    0]\n",
      " [  77    0]]\n",
      "shops\n",
      "[[6499    0]\n",
      " [  46    0]]\n",
      "aid_centers\n",
      "[[6461    0]\n",
      " [  84    0]]\n",
      "other_infrastructure\n",
      "[[6239    0]\n",
      " [ 306    0]]\n",
      "weather_related\n",
      "[[4717   58]\n",
      " [1255  515]]\n",
      "floods\n",
      "[[6048    2]\n",
      " [ 489    6]]\n",
      "storm\n",
      "[[5936    4]\n",
      " [ 587   18]]\n",
      "fire\n",
      "[[6477    0]\n",
      " [  68    0]]\n",
      "earthquake\n",
      "[[5930   26]\n",
      " [ 410  179]]\n",
      "cold\n",
      "[[6412    0]\n",
      " [ 132    1]]\n",
      "other_weather\n",
      "[[6224    1]\n",
      " [ 318    2]]\n",
      "direct_report\n",
      "[[5243   42]\n",
      " [ 940  320]]\n"
     ]
    }
   ],
   "source": [
    "for i, label in enumerate(y_test.columns):\n",
    "    print(label)\n",
    "    print(confusion_matrix(y_test.values[:,i], y_pred[:,i]))\n",
    "#     if i == 4:\n",
    "#         break"
   ]
  },
  {
   "cell_type": "code",
   "execution_count": 187,
   "metadata": {},
   "outputs": [],
   "source": [
    "category_names = y_test.columns\n",
    "def evaluate_model(cv, X_test, y_test, category_names):\n",
    "    '''\n",
    "    input: (\n",
    "        model: trained model \n",
    "        X_test: Test features \n",
    "        Y_test: Test labels \n",
    "        category_names: names of lables\n",
    "            )\n",
    "    Evaluate a trained model against a test dataset\n",
    "    '''\n",
    "    # get predictions \n",
    "    y_preds = cv.predict(X_test)\n",
    "    # print classification report\n",
    "    print(classification_report(y_preds, y_test.values, target_names=category_names))\n",
    "    # print raw accuracy score \n",
    "    print('Accuracy Score: {}'.format(np.mean(y_test.values == y_preds)))\n"
   ]
  },
  {
   "cell_type": "code",
   "execution_count": 164,
   "metadata": {
    "scrolled": true
   },
   "outputs": [
    {
     "name": "stdout",
     "output_type": "stream",
     "text": [
      "                        precision    recall  f1-score   support\n",
      "\n",
      "               request       0.35      0.88      0.50       451\n",
      "                 offer       0.00      0.00      0.00         0\n",
      "           aid_related       0.39      0.86      0.54      1241\n",
      "          medical_help       0.00      0.40      0.01         5\n",
      "      medical_products       0.01      0.75      0.02         4\n",
      "     search_and_rescue       0.00      0.00      0.00         2\n",
      "              security       0.00      0.00      0.00         0\n",
      "              military       0.00      0.00      0.00         1\n",
      "           child_alone       0.00      0.00      0.00         0\n",
      "                 water       0.09      1.00      0.16        38\n",
      "                  food       0.20      0.90      0.33       158\n",
      "               shelter       0.04      0.96      0.08        27\n",
      "              clothing       0.01      0.33      0.02         3\n",
      "                 money       0.03      0.80      0.05         5\n",
      "        missing_people       0.00      0.00      0.00         0\n",
      "              refugees       0.00      0.00      0.00         0\n",
      "                 death       0.02      1.00      0.04         7\n",
      "             other_aid       0.01      0.60      0.02        15\n",
      "infrastructure_related       0.00      0.00      0.00         0\n",
      "             transport       0.00      0.00      0.00         0\n",
      "             buildings       0.01      1.00      0.01         2\n",
      "           electricity       0.00      0.00      0.00         0\n",
      "                 tools       0.00      0.00      0.00         0\n",
      "             hospitals       0.00      0.00      0.00         0\n",
      "                 shops       0.00      0.00      0.00         0\n",
      "           aid_centers       0.00      0.00      0.00         0\n",
      "  other_infrastructure       0.00      0.00      0.00         0\n",
      "       weather_related       0.29      0.90      0.44       573\n",
      "                floods       0.01      0.75      0.02         8\n",
      "                 storm       0.03      0.82      0.06        22\n",
      "                  fire       0.00      0.00      0.00         0\n",
      "            earthquake       0.30      0.87      0.45       205\n",
      "                  cold       0.01      1.00      0.01         1\n",
      "         other_weather       0.01      0.67      0.01         3\n",
      "         direct_report       0.25      0.88      0.39       362\n",
      "\n",
      "             micro avg       0.17      0.87      0.29      3133\n",
      "             macro avg       0.06      0.44      0.09      3133\n",
      "          weighted avg       0.32      0.87      0.46      3133\n",
      "           samples avg       0.10      0.23      0.13      3133\n",
      "\n",
      "Accuracy Score: 0.9416173742224162\n"
     ]
    }
   ],
   "source": [
    "evaluate_model(cv, X_test, y_test, category_names)"
   ]
  },
  {
   "cell_type": "code",
   "execution_count": null,
   "metadata": {},
   "outputs": [],
   "source": []
  },
  {
   "cell_type": "code",
   "execution_count": null,
   "metadata": {},
   "outputs": [],
   "source": []
  },
  {
   "cell_type": "code",
   "execution_count": 196,
   "metadata": {},
   "outputs": [],
   "source": [
    "#import xgboost as xgb"
   ]
  },
  {
   "cell_type": "code",
   "execution_count": 197,
   "metadata": {},
   "outputs": [],
   "source": [
    "#clf = xgb.XGBClassifier()"
   ]
  },
  {
   "cell_type": "code",
   "execution_count": 198,
   "metadata": {},
   "outputs": [],
   "source": [
    "# pipeline = Pipeline([\n",
    "#     ('vect', CountVectorizer(tokenizer=tokenize)),\n",
    "#     ('tfidf', TfidfTransformer()),\n",
    "#     ('clf', MultiOutputClassifier(xgb.XGBClassifier()))\n",
    "# ])"
   ]
  },
  {
   "cell_type": "code",
   "execution_count": 199,
   "metadata": {},
   "outputs": [],
   "source": [
    "# parameters = {\n",
    "#         'vect__max_features': [1000, 1500, 2000],\n",
    "#         'tfidf__norm': ['l2'],\n",
    "#         'tfidf__sublinear_tf': [ False],\n",
    "#         'tfidf__smooth_idf': [False],\n",
    "#         'clf__estimator__max_depth': [3,5]\n",
    "#     }\n",
    "\n",
    "# cv = GridSearchCV(pipeline, parameters)"
   ]
  },
  {
   "cell_type": "code",
   "execution_count": 200,
   "metadata": {},
   "outputs": [],
   "source": [
    "# cv.fit(X_train, y_train)"
   ]
  },
  {
   "cell_type": "code",
   "execution_count": 201,
   "metadata": {},
   "outputs": [],
   "source": [
    "# pred = cv.predict(X_test)"
   ]
  },
  {
   "cell_type": "code",
   "execution_count": 202,
   "metadata": {},
   "outputs": [],
   "source": [
    "# cv.best_params_"
   ]
  },
  {
   "cell_type": "code",
   "execution_count": 203,
   "metadata": {},
   "outputs": [],
   "source": [
    "# accuracy_score(y_test, y_pred)"
   ]
  },
  {
   "cell_type": "code",
   "execution_count": 205,
   "metadata": {},
   "outputs": [],
   "source": [
    "# for i, label in enumerate(y_test.columns):\n",
    "#     print(label)\n",
    "#     print(confusion_matrix(y_test.values[:,i], y_pred[:,i] ))"
   ]
  },
  {
   "cell_type": "markdown",
   "metadata": {},
   "source": [
    "### 9. Export your model as a pickle file"
   ]
  },
  {
   "cell_type": "code",
   "execution_count": 165,
   "metadata": {},
   "outputs": [],
   "source": [
    "disaster_model = 'models/finalized_model.sav'\n",
    "pickle.dump(cv, open(disaster_model, 'wb'))"
   ]
  },
  {
   "cell_type": "markdown",
   "metadata": {},
   "source": [
    "### 10. Use this notebook to complete `train.py`\n",
    "Use the template file attached in the Resources folder to write a script that runs the steps above to create a database and export a model based on a new dataset specified by the user."
   ]
  },
  {
   "cell_type": "code",
   "execution_count": null,
   "metadata": {},
   "outputs": [],
   "source": []
  }
 ],
 "metadata": {
  "kernelspec": {
   "display_name": "Python 3",
   "language": "python",
   "name": "python3"
  },
  "language_info": {
   "codemirror_mode": {
    "name": "ipython",
    "version": 3
   },
   "file_extension": ".py",
   "mimetype": "text/x-python",
   "name": "python",
   "nbconvert_exporter": "python",
   "pygments_lexer": "ipython3",
   "version": "3.7.3"
  }
 },
 "nbformat": 4,
 "nbformat_minor": 2
}
